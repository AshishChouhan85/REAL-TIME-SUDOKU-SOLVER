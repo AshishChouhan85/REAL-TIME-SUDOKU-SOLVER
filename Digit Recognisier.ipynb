{
 "cells": [
  {
   "cell_type": "code",
   "execution_count": 1,
   "metadata": {},
   "outputs": [],
   "source": [
    "import numpy as np\n",
    "import cv2\n",
    "import os"
   ]
  },
  {
   "cell_type": "code",
   "execution_count": 2,
   "metadata": {},
   "outputs": [
    {
     "name": "stdout",
     "output_type": "stream",
     "text": [
      "['0', '1', '2', '3', '4', '5', '6', '7', '8', '9']\n"
     ]
    }
   ],
   "source": [
    "path= \"C:/Users/ashis/Downloads/myData\"\n",
    "lst=os.listdir(path)\n",
    "print(lst)"
   ]
  },
  {
   "cell_type": "markdown",
   "metadata": {},
   "source": [
    "# STORING IMAGE AND ITS CORRESPONDING CLASS IN A LIST"
   ]
  },
  {
   "cell_type": "code",
   "execution_count": 3,
   "metadata": {},
   "outputs": [],
   "source": [
    "Class=[]\n",
    "Image=[]\n",
    "for i in range(0,len(lst)):\n",
    "    no_of_img=os.listdir(path + \"/\" + lst[i])\n",
    "    for j in range(0,len(no_of_img)):\n",
    "        curr_img=cv2.imread(path + \"/\" + lst[i] + \"/\" + no_of_img[j])\n",
    "        curr_img=cv2.resize(curr_img,(32,32))\n",
    "        curr_img=cv2.cvtColor(curr_img,cv2.COLOR_BGR2GRAY)\n",
    "        Class.append(lst[i])\n",
    "        Image.append(curr_img)"
   ]
  },
  {
   "cell_type": "code",
   "execution_count": 4,
   "metadata": {},
   "outputs": [
    {
     "data": {
      "text/plain": [
       "10160"
      ]
     },
     "execution_count": 4,
     "metadata": {},
     "output_type": "execute_result"
    }
   ],
   "source": [
    "len(Class)"
   ]
  },
  {
   "cell_type": "code",
   "execution_count": 5,
   "metadata": {},
   "outputs": [
    {
     "data": {
      "text/plain": [
       "10160"
      ]
     },
     "execution_count": 5,
     "metadata": {},
     "output_type": "execute_result"
    }
   ],
   "source": [
    "len(Image)"
   ]
  },
  {
   "cell_type": "markdown",
   "metadata": {},
   "source": [
    "# CHANGING LIST TO NUMPY ARRAY"
   ]
  },
  {
   "cell_type": "code",
   "execution_count": 6,
   "metadata": {},
   "outputs": [],
   "source": [
    "Class=np.array(Class)\n",
    "Image=np.array(Image)"
   ]
  },
  {
   "cell_type": "markdown",
   "metadata": {},
   "source": [
    "# GETTING SHAPES OF THE NUMPY ARRAYS"
   ]
  },
  {
   "cell_type": "code",
   "execution_count": 7,
   "metadata": {},
   "outputs": [
    {
     "name": "stdout",
     "output_type": "stream",
     "text": [
      "(10160,)\n",
      "(10160, 32, 32)\n"
     ]
    }
   ],
   "source": [
    "print(Class.shape)\n",
    "print(Image.shape)"
   ]
  },
  {
   "cell_type": "markdown",
   "metadata": {},
   "source": [
    "# CHECKING THE LISTS BY PUTTING RANDOM INDICES"
   ]
  },
  {
   "cell_type": "code",
   "execution_count": 8,
   "metadata": {},
   "outputs": [
    {
     "name": "stdout",
     "output_type": "stream",
     "text": [
      "0\n"
     ]
    },
    {
     "data": {
      "image/png": "[encoded data removed]",
      "text/plain": [
       "<Figure size 432x288 with 1 Axes>"
      ]
     },
     "metadata": {
      "needs_background": "light"
     },
     "output_type": "display_data"
    }
   ],
   "source": [
    "import matplotlib.pyplot as plt\n",
    "\n",
    "\n",
    "plt.imshow(Image[1000],cmap=\"gray\")\n",
    "print(Class[1000])"
   ]
  },
  {
   "cell_type": "code",
   "execution_count": 9,
   "metadata": {},
   "outputs": [
    {
     "name": "stdout",
     "output_type": "stream",
     "text": [
      "4\n"
     ]
    },
    {
     "data": {
      "image/png": "[encoded data removed]",
      "text/plain": [
       "<Figure size 432x288 with 1 Axes>"
      ]
     },
     "metadata": {
      "needs_background": "light"
     },
     "output_type": "display_data"
    }
   ],
   "source": [
    "plt.imshow(Image[5000],cmap=\"gray\")\n",
    "print(Class[5000])"
   ]
  },
  {
   "cell_type": "code",
   "execution_count": 10,
   "metadata": {},
   "outputs": [
    {
     "name": "stdout",
     "output_type": "stream",
     "text": [
      "9\n"
     ]
    },
    {
     "data": {
      "image/png": "[encoded data removed]",
      "text/plain": [
       "<Figure size 432x288 with 1 Axes>"
      ]
     },
     "metadata": {
      "needs_background": "light"
     },
     "output_type": "display_data"
    }
   ],
   "source": [
    "plt.imshow(Image[10000],cmap=\"gray\")\n",
    "print(Class[10000])"
   ]
  },
  {
   "cell_type": "markdown",
   "metadata": {},
   "source": [
    "# CREATING TRAINING,VALIDATION AND TEST DATA"
   ]
  },
  {
   "cell_type": "code",
   "execution_count": 11,
   "metadata": {},
   "outputs": [],
   "source": [
    "from sklearn.model_selection import train_test_split"
   ]
  },
  {
   "cell_type": "code",
   "execution_count": 12,
   "metadata": {},
   "outputs": [],
   "source": [
    "X_train,X_test,y_train,y_test=train_test_split(Image,Class,test_size=0.2)"
   ]
  },
  {
   "cell_type": "code",
   "execution_count": 13,
   "metadata": {},
   "outputs": [
    {
     "name": "stdout",
     "output_type": "stream",
     "text": [
      "8128\n",
      "2032\n"
     ]
    }
   ],
   "source": [
    "print(len(X_train))\n",
    "print(len(X_test))"
   ]
  },
  {
   "cell_type": "code",
   "execution_count": 14,
   "metadata": {},
   "outputs": [],
   "source": [
    "X_train,X_vald,y_train,y_vald=train_test_split(Image,Class,test_size=0.2)"
   ]
  },
  {
   "cell_type": "markdown",
   "metadata": {},
   "source": [
    "# GETTING NUMBER OF IMAGES OF EACH CLASS"
   ]
  },
  {
   "cell_type": "markdown",
   "metadata": {},
   "source": [
    "This is important as to check that any class is not favoured "
   ]
  },
  {
   "cell_type": "code",
   "execution_count": 15,
   "metadata": {},
   "outputs": [
    {
     "data": {
      "image/png": "[encoded data removed]",
      "text/plain": [
       "<Figure size 720x360 with 1 Axes>"
      ]
     },
     "metadata": {
      "needs_background": "light"
     },
     "output_type": "display_data"
    }
   ],
   "source": [
    "plt.figure(figsize=(10,5))\n",
    "plt.hist(y_train,rwidth=0.8)\n",
    "plt.show()"
   ]
  },
  {
   "cell_type": "markdown",
   "metadata": {},
   "source": [
    "# PREPROCESSING THE DATA"
   ]
  },
  {
   "cell_type": "code",
   "execution_count": 16,
   "metadata": {},
   "outputs": [
    {
     "name": "stdout",
     "output_type": "stream",
     "text": [
      "(8128, 32, 32) (2032, 32, 32) (2032, 32, 32)\n"
     ]
    }
   ],
   "source": [
    "print(X_train.shape,X_vald.shape,X_test.shape)"
   ]
  },
  {
   "cell_type": "markdown",
   "metadata": {},
   "source": [
    "A colour channel is also needed for training using CNN.Hence, data will be reshaped."
   ]
  },
  {
   "cell_type": "code",
   "execution_count": 17,
   "metadata": {},
   "outputs": [],
   "source": [
    "X_train=X_train.reshape(8128, 32, 32,1)\n",
    "X_vald=X_vald.reshape(2032, 32, 32,1)\n",
    "X_test=X_test.reshape(2032, 32, 32,1)"
   ]
  },
  {
   "cell_type": "markdown",
   "metadata": {},
   "source": [
    "We also need to change the value of pixels in the range of 0 to 1"
   ]
  },
  {
   "cell_type": "code",
   "execution_count": 18,
   "metadata": {},
   "outputs": [],
   "source": [
    "X_train=X_train/255.0\n",
    "X_vald=X_vald/255.0\n",
    "X_test=X_test/255.0"
   ]
  },
  {
   "cell_type": "code",
   "execution_count": 19,
   "metadata": {},
   "outputs": [
    {
     "data": {
      "text/plain": [
       "<matplotlib.image.AxesImage at 0x2c8f6495c08>"
      ]
     },
     "execution_count": 19,
     "metadata": {},
     "output_type": "execute_result"
    },
    {
     "data": {
      "image/png": "[encoded data removed]",
      "text/plain": [
       "<Figure size 432x288 with 1 Axes>"
      ]
     },
     "metadata": {
      "needs_background": "light"
     },
     "output_type": "display_data"
    }
   ],
   "source": [
    "plt.imshow(X_train[2000],cmap=\"gray\")"
   ]
  },
  {
   "cell_type": "code",
   "execution_count": 20,
   "metadata": {},
   "outputs": [
    {
     "name": "stdout",
     "output_type": "stream",
     "text": [
      "(8128, 32, 32, 1)\n"
     ]
    }
   ],
   "source": [
    "print(X_train.shape)"
   ]
  },
  {
   "cell_type": "markdown",
   "metadata": {},
   "source": [
    "# ONE HOT ENCODING THE OUTPUT"
   ]
  },
  {
   "cell_type": "markdown",
   "metadata": {},
   "source": [
    "The output is contained in the form of 0 to 9. This will create a problem in training our model. Hence we one hot encode the output."
   ]
  },
  {
   "cell_type": "code",
   "execution_count": 21,
   "metadata": {},
   "outputs": [
    {
     "name": "stderr",
     "output_type": "stream",
     "text": [
      "c:\\users\\ashis\\appdata\\local\\programs\\python\\python37\\lib\\site-packages\\tensorboard\\compat\\tensorflow_stub\\dtypes.py:541: FutureWarning: Passing (type, 1) or '1type' as a synonym of type is deprecated; in a future version of numpy, it will be understood as (type, (1,)) / '(1,)type'.\n",
      "  _np_qint8 = np.dtype([(\"qint8\", np.int8, 1)])\n",
      "c:\\users\\ashis\\appdata\\local\\programs\\python\\python37\\lib\\site-packages\\tensorboard\\compat\\tensorflow_stub\\dtypes.py:542: FutureWarning: Passing (type, 1) or '1type' as a synonym of type is deprecated; in a future version of numpy, it will be understood as (type, (1,)) / '(1,)type'.\n",
      "  _np_quint8 = np.dtype([(\"quint8\", np.uint8, 1)])\n",
      "c:\\users\\ashis\\appdata\\local\\programs\\python\\python37\\lib\\site-packages\\tensorboard\\compat\\tensorflow_stub\\dtypes.py:543: FutureWarning: Passing (type, 1) or '1type' as a synonym of type is deprecated; in a future version of numpy, it will be understood as (type, (1,)) / '(1,)type'.\n",
      "  _np_qint16 = np.dtype([(\"qint16\", np.int16, 1)])\n",
      "c:\\users\\ashis\\appdata\\local\\programs\\python\\python37\\lib\\site-packages\\tensorboard\\compat\\tensorflow_stub\\dtypes.py:544: FutureWarning: Passing (type, 1) or '1type' as a synonym of type is deprecated; in a future version of numpy, it will be understood as (type, (1,)) / '(1,)type'.\n",
      "  _np_quint16 = np.dtype([(\"quint16\", np.uint16, 1)])\n",
      "c:\\users\\ashis\\appdata\\local\\programs\\python\\python37\\lib\\site-packages\\tensorboard\\compat\\tensorflow_stub\\dtypes.py:545: FutureWarning: Passing (type, 1) or '1type' as a synonym of type is deprecated; in a future version of numpy, it will be understood as (type, (1,)) / '(1,)type'.\n",
      "  _np_qint32 = np.dtype([(\"qint32\", np.int32, 1)])\n",
      "c:\\users\\ashis\\appdata\\local\\programs\\python\\python37\\lib\\site-packages\\tensorboard\\compat\\tensorflow_stub\\dtypes.py:550: FutureWarning: Passing (type, 1) or '1type' as a synonym of type is deprecated; in a future version of numpy, it will be understood as (type, (1,)) / '(1,)type'.\n",
      "  np_resource = np.dtype([(\"resource\", np.ubyte, 1)])\n"
     ]
    }
   ],
   "source": [
    "from tensorflow.keras.utils import to_categorical\n",
    "\n",
    "y_train=to_categorical(y_train,10)\n",
    "y_vald=to_categorical(y_vald,10)\n",
    "y_test=to_categorical(y_test,10)"
   ]
  },
  {
   "cell_type": "markdown",
   "metadata": {},
   "source": [
    "# DATA AUGMENTATION"
   ]
  },
  {
   "cell_type": "markdown",
   "metadata": {},
   "source": [
    "Data augmentation trains our model with the variations of image that we currently have. This prevents overfitting of the model.\n",
    "This is also helpful when we have less images."
   ]
  },
  {
   "cell_type": "code",
   "execution_count": 22,
   "metadata": {},
   "outputs": [],
   "source": [
    "from tensorflow import keras\n",
    "from keras.preprocessing.image import ImageDataGenerator"
   ]
  },
  {
   "cell_type": "code",
   "execution_count": 23,
   "metadata": {},
   "outputs": [],
   "source": [
    "train_datagen=ImageDataGenerator(rotation_range=20,width_shift_range=0.2,height_shift_range=0.2,shear_range=0.2,zoom_range=0.2)"
   ]
  },
  {
   "cell_type": "markdown",
   "metadata": {},
   "source": [
    "# MAKING THE CONVOLUTION BASE\n",
    "After many hit and trials, the following convolution base and classifier fitted best."
   ]
  },
  {
   "cell_type": "code",
   "execution_count": 24,
   "metadata": {},
   "outputs": [],
   "source": [
    "from tensorflow.keras import models\n",
    "\n",
    "model=keras.models.Sequential()\n",
    "model.add(keras.layers.Conv2D(filters=32,\n",
    "                                  kernel_size=(5,5),activation=\"relu\",input_shape=(32,32,1)))\n",
    "model.add(keras.layers.MaxPooling2D(2,2))\n",
    "model.add(keras.layers.Conv2D(filters=64,kernel_size=(3,3),activation=\"relu\"))\n",
    "model.add(keras.layers.MaxPooling2D(2,2))\n",
    "model.add(keras.layers.Dropout(0.5))"
   ]
  },
  {
   "cell_type": "markdown",
   "metadata": {},
   "source": [
    "# MAKING THE CLASSIFIER"
   ]
  },
  {
   "cell_type": "code",
   "execution_count": 25,
   "metadata": {},
   "outputs": [],
   "source": [
    "model.add(keras.layers.Flatten())\n",
    "model.add(keras.layers.Dense(units=150,activation=\"relu\"))\n",
    "model.add(keras.layers.Dropout(0.5))\n",
    "model.add(keras.layers.Dense(10,activation=\"softmax\"))"
   ]
  },
  {
   "cell_type": "markdown",
   "metadata": {},
   "source": [
    "# STRUCTURE OF THE MODEL"
   ]
  },
  {
   "cell_type": "code",
   "execution_count": 26,
   "metadata": {},
   "outputs": [
    {
     "name": "stdout",
     "output_type": "stream",
     "text": [
      "Model: \"sequential\"\n",
      "_________________________________________________________________\n",
      "Layer (type)                 Output Shape              Param #   \n",
      "=================================================================\n",
      "conv2d (Conv2D)              (None, 28, 28, 32)        832       \n",
      "_________________________________________________________________\n",
      "max_pooling2d (MaxPooling2D) (None, 14, 14, 32)        0         \n",
      "_________________________________________________________________\n",
      "conv2d_1 (Conv2D)            (None, 12, 12, 64)        18496     \n",
      "_________________________________________________________________\n",
      "max_pooling2d_1 (MaxPooling2 (None, 6, 6, 64)          0         \n",
      "_________________________________________________________________\n",
      "dropout (Dropout)            (None, 6, 6, 64)          0         \n",
      "_________________________________________________________________\n",
      "flatten (Flatten)            (None, 2304)              0         \n",
      "_________________________________________________________________\n",
      "dense (Dense)                (None, 150)               345750    \n",
      "_________________________________________________________________\n",
      "dropout_1 (Dropout)          (None, 150)               0         \n",
      "_________________________________________________________________\n",
      "dense_1 (Dense)              (None, 10)                1510      \n",
      "=================================================================\n",
      "Total params: 366,588\n",
      "Trainable params: 366,588\n",
      "Non-trainable params: 0\n",
      "_________________________________________________________________\n"
     ]
    }
   ],
   "source": [
    "model.summary()"
   ]
  },
  {
   "cell_type": "markdown",
   "metadata": {},
   "source": [
    "# COMPILING THE MODEL"
   ]
  },
  {
   "cell_type": "code",
   "execution_count": 27,
   "metadata": {},
   "outputs": [],
   "source": [
    " model.compile(loss=\"categorical_crossentropy\",optimizer=\"adam\"\n",
    "                  ,metrics=[\"accuracy\"])\n"
   ]
  },
  {
   "cell_type": "markdown",
   "metadata": {},
   "source": [
    "# TRAINING THE MODEL"
   ]
  },
  {
   "cell_type": "code",
   "execution_count": 28,
   "metadata": {},
   "outputs": [
    {
     "name": "stdout",
     "output_type": "stream",
     "text": [
      "Epoch 1/25\n",
      "120/120 [==============================] - 15s 114ms/step - loss: 2.2258 - accuracy: 0.1642 - val_loss: 0.7095 - val_accuracy: 0.8740\n",
      "Epoch 2/25\n",
      "120/120 [==============================] - 12s 102ms/step - loss: 1.3247 - accuracy: 0.5484 - val_loss: 0.2466 - val_accuracy: 0.9291\n",
      "Epoch 3/25\n",
      "120/120 [==============================] - 12s 103ms/step - loss: 0.8610 - accuracy: 0.7148 - val_loss: 0.1749 - val_accuracy: 0.9498\n",
      "Epoch 4/25\n",
      "120/120 [==============================] - 13s 108ms/step - loss: 0.6468 - accuracy: 0.7941 - val_loss: 0.1207 - val_accuracy: 0.9660\n",
      "Epoch 5/25\n",
      "120/120 [==============================] - 15s 121ms/step - loss: 0.5204 - accuracy: 0.8419 - val_loss: 0.1209 - val_accuracy: 0.9646\n",
      "Epoch 6/25\n",
      "120/120 [==============================] - 9s 77ms/step - loss: 0.4843 - accuracy: 0.8489 - val_loss: 0.0974 - val_accuracy: 0.9729\n",
      "Epoch 7/25\n",
      "120/120 [==============================] - 12s 99ms/step - loss: 0.3946 - accuracy: 0.8753 - val_loss: 0.0988 - val_accuracy: 0.9724\n",
      "Epoch 8/25\n",
      "120/120 [==============================] - 11s 91ms/step - loss: 0.3667 - accuracy: 0.8745 - val_loss: 0.0846 - val_accuracy: 0.9754\n",
      "Epoch 9/25\n",
      "120/120 [==============================] - 10s 84ms/step - loss: 0.3531 - accuracy: 0.8897 - val_loss: 0.0800 - val_accuracy: 0.9759\n",
      "Epoch 10/25\n",
      "120/120 [==============================] - 10s 79ms/step - loss: 0.3359 - accuracy: 0.8960 - val_loss: 0.0840 - val_accuracy: 0.9719\n",
      "Epoch 11/25\n",
      "120/120 [==============================] - 9s 77ms/step - loss: 0.3181 - accuracy: 0.8943 - val_loss: 0.0964 - val_accuracy: 0.9685\n",
      "Epoch 12/25\n",
      "120/120 [==============================] - 9s 75ms/step - loss: 0.3045 - accuracy: 0.9006 - val_loss: 0.0726 - val_accuracy: 0.9754\n",
      "Epoch 13/25\n",
      "120/120 [==============================] - 9s 77ms/step - loss: 0.2777 - accuracy: 0.9096 - val_loss: 0.0618 - val_accuracy: 0.9833\n",
      "Epoch 14/25\n",
      "120/120 [==============================] - 9s 71ms/step - loss: 0.2705 - accuracy: 0.9131 - val_loss: 0.0596 - val_accuracy: 0.9838\n",
      "Epoch 15/25\n",
      "120/120 [==============================] - 8s 70ms/step - loss: 0.2556 - accuracy: 0.9229 - val_loss: 0.0592 - val_accuracy: 0.9857\n",
      "Epoch 16/25\n",
      "120/120 [==============================] - 8s 69ms/step - loss: 0.2646 - accuracy: 0.9192 - val_loss: 0.0549 - val_accuracy: 0.9872\n",
      "Epoch 17/25\n",
      "120/120 [==============================] - 8s 69ms/step - loss: 0.2194 - accuracy: 0.9301 - val_loss: 0.0509 - val_accuracy: 0.9857\n",
      "Epoch 18/25\n",
      "120/120 [==============================] - 8s 70ms/step - loss: 0.2304 - accuracy: 0.9282 - val_loss: 0.0500 - val_accuracy: 0.9852\n",
      "Epoch 19/25\n",
      "120/120 [==============================] - 8s 70ms/step - loss: 0.2395 - accuracy: 0.9215 - val_loss: 0.0601 - val_accuracy: 0.9818\n",
      "Epoch 20/25\n",
      "120/120 [==============================] - 9s 72ms/step - loss: 0.2244 - accuracy: 0.9353 - val_loss: 0.0510 - val_accuracy: 0.9828\n",
      "Epoch 21/25\n",
      "120/120 [==============================] - 9s 73ms/step - loss: 0.2402 - accuracy: 0.9251 - val_loss: 0.0461 - val_accuracy: 0.9857\n",
      "Epoch 22/25\n",
      "120/120 [==============================] - 9s 72ms/step - loss: 0.2189 - accuracy: 0.9275 - val_loss: 0.0712 - val_accuracy: 0.9788\n",
      "Epoch 23/25\n",
      "120/120 [==============================] - 8s 70ms/step - loss: 0.2188 - accuracy: 0.9306 - val_loss: 0.0517 - val_accuracy: 0.9867\n",
      "Epoch 24/25\n",
      "120/120 [==============================] - 9s 71ms/step - loss: 0.1990 - accuracy: 0.9324 - val_loss: 0.0476 - val_accuracy: 0.9872\n",
      "Epoch 25/25\n",
      "120/120 [==============================] - 9s 72ms/step - loss: 0.2134 - accuracy: 0.9312 - val_loss: 0.0401 - val_accuracy: 0.9892\n"
     ]
    }
   ],
   "source": [
    "history=model.fit(train_datagen.flow(X_train,y_train,batch_size=50),\n",
    "                  steps_per_epoch=120,epochs=25,validation_data=(X_vald,y_vald),shuffle=1)"
   ]
  },
  {
   "cell_type": "markdown",
   "metadata": {},
   "source": [
    "# PLOTTING THE RESULT"
   ]
  },
  {
   "cell_type": "code",
   "execution_count": 29,
   "metadata": {},
   "outputs": [
    {
     "data": {
      "image/png": "[encoded data removed]",
      "text/plain": [
       "<Figure size 576x360 with 1 Axes>"
      ]
     },
     "metadata": {
      "needs_background": "light"
     },
     "output_type": "display_data"
    }
   ],
   "source": [
    "import pandas as pd\n",
    "\n",
    "pd.DataFrame(history.history).plot(figsize=(8,5))\n",
    "plt.grid(True)\n",
    "plt.gca().set_ylim(0,1)\n",
    "plt.show()"
   ]
  },
  {
   "cell_type": "markdown",
   "metadata": {},
   "source": [
    "The gap between training and validation accuracy is a clear indication of overfitting. The larger the gap, the higher the overfitting. Here the gap is less hence model is acceptable."
   ]
  },
  {
   "cell_type": "markdown",
   "metadata": {},
   "source": [
    "# TESTING THE MODEL"
   ]
  },
  {
   "cell_type": "code",
   "execution_count": 30,
   "metadata": {},
   "outputs": [],
   "source": [
    "score=model.evaluate(X_test,y_test,verbose=0)"
   ]
  },
  {
   "cell_type": "code",
   "execution_count": 31,
   "metadata": {},
   "outputs": [
    {
     "name": "stdout",
     "output_type": "stream",
     "text": [
      "Accuracy= 0.9886810779571533\n"
     ]
    }
   ],
   "source": [
    "print(\"Accuracy=\",score[1])"
   ]
  },
  {
   "cell_type": "markdown",
   "metadata": {},
   "source": [
    "The accuracy of the model is 98.87% which is quite good!!!!"
   ]
  },
  {
   "cell_type": "markdown",
   "metadata": {},
   "source": [
    "# SAVING THE MODEL"
   ]
  },
  {
   "cell_type": "code",
   "execution_count": 32,
   "metadata": {},
   "outputs": [],
   "source": [
    "model.save(\"D:\\CNN\\model.h5\")"
   ]
  }
 ],
 "metadata": {
  "kernelspec": {
   "display_name": "Python 3",
   "language": "python",
   "name": "python3"
  },
  "language_info": {
   "codemirror_mode": {
    "name": "ipython",
    "version": 3
   },
   "file_extension": ".py",
   "mimetype": "text/x-python",
   "name": "python",
   "nbconvert_exporter": "python",
   "pygments_lexer": "ipython3",
   "version": "3.7.8"
  }
 },
 "nbformat": 4,
 "nbformat_minor": 4
}
